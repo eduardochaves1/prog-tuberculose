{
 "cells": [
  {
   "cell_type": "code",
   "execution_count": 1,
   "metadata": {},
   "outputs": [],
   "source": [
    "import pandas as pd\n",
    "import numbers as np\n",
    "import seaborn as sns\n",
    "from matplotlib import pyplot as plt\n",
    "import joblib\n",
    "\n",
    "sns.set_style(\"whitegrid\")"
   ]
  },
  {
   "cell_type": "code",
   "execution_count": 2,
   "metadata": {},
   "outputs": [],
   "source": [
    "df = pd.read_parquet('../assets/SINAN-TB_Brazil_cleaned.parquet')"
   ]
  },
  {
   "cell_type": "code",
   "execution_count": 3,
   "metadata": {},
   "outputs": [
    {
     "data": {
      "text/html": [
       "<div>\n",
       "<style scoped>\n",
       "    .dataframe tbody tr th:only-of-type {\n",
       "        vertical-align: middle;\n",
       "    }\n",
       "\n",
       "    .dataframe tbody tr th {\n",
       "        vertical-align: top;\n",
       "    }\n",
       "\n",
       "    .dataframe thead th {\n",
       "        text-align: right;\n",
       "    }\n",
       "</style>\n",
       "<table border=\"1\" class=\"dataframe\">\n",
       "  <thead>\n",
       "    <tr style=\"text-align: right;\">\n",
       "      <th></th>\n",
       "      <th>DT_NOTIFIC</th>\n",
       "      <th>CS_SEXO</th>\n",
       "      <th>CS_RACA</th>\n",
       "      <th>TRATAMENTO</th>\n",
       "      <th>RAIOX_TORA</th>\n",
       "      <th>TESTE_TUBE</th>\n",
       "      <th>FORMA</th>\n",
       "      <th>AGRAVAIDS</th>\n",
       "      <th>AGRAVALCOO</th>\n",
       "      <th>AGRAVDIABE</th>\n",
       "      <th>...</th>\n",
       "      <th>BACILOSC_3</th>\n",
       "      <th>BACILOSC_4</th>\n",
       "      <th>BACILOSC_5</th>\n",
       "      <th>BACILOSC_6</th>\n",
       "      <th>SITUA_ENCE</th>\n",
       "      <th>AGRAVDROGA</th>\n",
       "      <th>AGRAVTABAC</th>\n",
       "      <th>UF</th>\n",
       "      <th>DIAS_EM_TRATAMENTO</th>\n",
       "      <th>IDADE</th>\n",
       "    </tr>\n",
       "  </thead>\n",
       "  <tbody>\n",
       "    <tr>\n",
       "      <th>0</th>\n",
       "      <td>06/01/2001</td>\n",
       "      <td>Male</td>\n",
       "      <td>Ignored</td>\n",
       "      <td>New case</td>\n",
       "      <td>Suspicious</td>\n",
       "      <td>Not performed</td>\n",
       "      <td>Pulmonary</td>\n",
       "      <td>Ignored</td>\n",
       "      <td>Ignored</td>\n",
       "      <td>Ignored</td>\n",
       "      <td>...</td>\n",
       "      <td>Ignored</td>\n",
       "      <td>Not performed</td>\n",
       "      <td>Ignored</td>\n",
       "      <td>Not performed</td>\n",
       "      <td>Cured</td>\n",
       "      <td>Ignored</td>\n",
       "      <td>Ignored</td>\n",
       "      <td>AC</td>\n",
       "      <td>195</td>\n",
       "      <td>66.0</td>\n",
       "    </tr>\n",
       "    <tr>\n",
       "      <th>1</th>\n",
       "      <td>16/01/2001</td>\n",
       "      <td>Female</td>\n",
       "      <td>Admixed</td>\n",
       "      <td>New case</td>\n",
       "      <td>Suspicious</td>\n",
       "      <td>Not performed</td>\n",
       "      <td>Pulmonary</td>\n",
       "      <td>Ignored</td>\n",
       "      <td>Ignored</td>\n",
       "      <td>Ignored</td>\n",
       "      <td>...</td>\n",
       "      <td>Ignored</td>\n",
       "      <td>Not performed</td>\n",
       "      <td>Ignored</td>\n",
       "      <td>Not performed</td>\n",
       "      <td>Cured</td>\n",
       "      <td>Ignored</td>\n",
       "      <td>Ignored</td>\n",
       "      <td>AC</td>\n",
       "      <td>181</td>\n",
       "      <td>35.0</td>\n",
       "    </tr>\n",
       "    <tr>\n",
       "      <th>2</th>\n",
       "      <td>16/01/2001</td>\n",
       "      <td>Male</td>\n",
       "      <td>Admixed</td>\n",
       "      <td>New case</td>\n",
       "      <td>Suspicious</td>\n",
       "      <td>Not performed</td>\n",
       "      <td>Pulmonary</td>\n",
       "      <td>Ignored</td>\n",
       "      <td>Ignored</td>\n",
       "      <td>Ignored</td>\n",
       "      <td>...</td>\n",
       "      <td>Ignored</td>\n",
       "      <td>Not performed</td>\n",
       "      <td>Ignored</td>\n",
       "      <td>Not performed</td>\n",
       "      <td>Cured</td>\n",
       "      <td>Ignored</td>\n",
       "      <td>Ignored</td>\n",
       "      <td>AC</td>\n",
       "      <td>181</td>\n",
       "      <td>54.0</td>\n",
       "    </tr>\n",
       "    <tr>\n",
       "      <th>3</th>\n",
       "      <td>22/01/2001</td>\n",
       "      <td>Male</td>\n",
       "      <td>Admixed</td>\n",
       "      <td>New case</td>\n",
       "      <td>Suspicious</td>\n",
       "      <td>Not performed</td>\n",
       "      <td>Pulmonary</td>\n",
       "      <td>Ignored</td>\n",
       "      <td>Ignored</td>\n",
       "      <td>Ignored</td>\n",
       "      <td>...</td>\n",
       "      <td>Ignored</td>\n",
       "      <td>Not performed</td>\n",
       "      <td>Ignored</td>\n",
       "      <td>Not performed</td>\n",
       "      <td>Cured</td>\n",
       "      <td>Ignored</td>\n",
       "      <td>Ignored</td>\n",
       "      <td>AC</td>\n",
       "      <td>181</td>\n",
       "      <td>36.0</td>\n",
       "    </tr>\n",
       "    <tr>\n",
       "      <th>4</th>\n",
       "      <td>03/01/2001</td>\n",
       "      <td>Female</td>\n",
       "      <td>Ignored</td>\n",
       "      <td>New case</td>\n",
       "      <td>No accomplished</td>\n",
       "      <td>Not performed</td>\n",
       "      <td>Pulmonary</td>\n",
       "      <td>Ignored</td>\n",
       "      <td>Ignored</td>\n",
       "      <td>Ignored</td>\n",
       "      <td>...</td>\n",
       "      <td>Ignored</td>\n",
       "      <td>Not performed</td>\n",
       "      <td>Ignored</td>\n",
       "      <td>Not performed</td>\n",
       "      <td>Cured</td>\n",
       "      <td>Ignored</td>\n",
       "      <td>Ignored</td>\n",
       "      <td>AC</td>\n",
       "      <td>183</td>\n",
       "      <td>14.0</td>\n",
       "    </tr>\n",
       "  </tbody>\n",
       "</table>\n",
       "<p>5 rows × 38 columns</p>\n",
       "</div>"
      ],
      "text/plain": [
       "   DT_NOTIFIC CS_SEXO  CS_RACA TRATAMENTO       RAIOX_TORA     TESTE_TUBE  \\\n",
       "0  06/01/2001    Male  Ignored   New case       Suspicious  Not performed   \n",
       "1  16/01/2001  Female  Admixed   New case       Suspicious  Not performed   \n",
       "2  16/01/2001    Male  Admixed   New case       Suspicious  Not performed   \n",
       "3  22/01/2001    Male  Admixed   New case       Suspicious  Not performed   \n",
       "4  03/01/2001  Female  Ignored   New case  No accomplished  Not performed   \n",
       "\n",
       "       FORMA AGRAVAIDS AGRAVALCOO AGRAVDIABE  ... BACILOSC_3     BACILOSC_4  \\\n",
       "0  Pulmonary   Ignored    Ignored    Ignored  ...    Ignored  Not performed   \n",
       "1  Pulmonary   Ignored    Ignored    Ignored  ...    Ignored  Not performed   \n",
       "2  Pulmonary   Ignored    Ignored    Ignored  ...    Ignored  Not performed   \n",
       "3  Pulmonary   Ignored    Ignored    Ignored  ...    Ignored  Not performed   \n",
       "4  Pulmonary   Ignored    Ignored    Ignored  ...    Ignored  Not performed   \n",
       "\n",
       "  BACILOSC_5     BACILOSC_6 SITUA_ENCE AGRAVDROGA AGRAVTABAC  UF  \\\n",
       "0    Ignored  Not performed      Cured    Ignored    Ignored  AC   \n",
       "1    Ignored  Not performed      Cured    Ignored    Ignored  AC   \n",
       "2    Ignored  Not performed      Cured    Ignored    Ignored  AC   \n",
       "3    Ignored  Not performed      Cured    Ignored    Ignored  AC   \n",
       "4    Ignored  Not performed      Cured    Ignored    Ignored  AC   \n",
       "\n",
       "  DIAS_EM_TRATAMENTO IDADE  \n",
       "0                195  66.0  \n",
       "1                181  35.0  \n",
       "2                181  54.0  \n",
       "3                181  36.0  \n",
       "4                183  14.0  \n",
       "\n",
       "[5 rows x 38 columns]"
      ]
     },
     "execution_count": 3,
     "metadata": {},
     "output_type": "execute_result"
    }
   ],
   "source": [
    "df.head()"
   ]
  },
  {
   "cell_type": "code",
   "execution_count": 4,
   "metadata": {},
   "outputs": [
    {
     "name": "stdout",
     "output_type": "stream",
     "text": [
      "<class 'pandas.core.frame.DataFrame'>\n",
      "RangeIndex: 963961 entries, 0 to 963960\n",
      "Data columns (total 38 columns):\n",
      " #   Column              Non-Null Count   Dtype  \n",
      "---  ------              --------------   -----  \n",
      " 0   DT_NOTIFIC          963961 non-null  object \n",
      " 1   CS_SEXO             963961 non-null  object \n",
      " 2   CS_RACA             963961 non-null  object \n",
      " 3   TRATAMENTO          963961 non-null  object \n",
      " 4   RAIOX_TORA          963961 non-null  object \n",
      " 5   TESTE_TUBE          963961 non-null  object \n",
      " 6   FORMA               963961 non-null  object \n",
      " 7   AGRAVAIDS           963961 non-null  object \n",
      " 8   AGRAVALCOO          963961 non-null  object \n",
      " 9   AGRAVDIABE          963961 non-null  object \n",
      " 10  AGRAVDOENC          963961 non-null  object \n",
      " 11  AGRAVOUTRA          963961 non-null  object \n",
      " 12  BACILOSC_E          963961 non-null  object \n",
      " 13  BACILOS_E2          963961 non-null  object \n",
      " 14  BACILOSC_O          963961 non-null  object \n",
      " 15  CULTURA_ES          963961 non-null  object \n",
      " 16  HIV                 963961 non-null  object \n",
      " 17  RIFAMPICIN          963961 non-null  object \n",
      " 18  ISONIAZIDA          963961 non-null  object \n",
      " 19  ETAMBUTOL           963961 non-null  object \n",
      " 20  ESTREPTOMI          963961 non-null  object \n",
      " 21  PIRAZINAMI          963961 non-null  object \n",
      " 22  ETIONAMIDA          963961 non-null  object \n",
      " 23  OUTRAS              963961 non-null  object \n",
      " 24  TRAT_SUPER          963961 non-null  object \n",
      " 25  DOENCA_TRA          963961 non-null  object \n",
      " 26  BACILOSC_1          963961 non-null  object \n",
      " 27  BACILOSC_2          963961 non-null  object \n",
      " 28  BACILOSC_3          963961 non-null  object \n",
      " 29  BACILOSC_4          963961 non-null  object \n",
      " 30  BACILOSC_5          963961 non-null  object \n",
      " 31  BACILOSC_6          963961 non-null  object \n",
      " 32  SITUA_ENCE          963961 non-null  object \n",
      " 33  AGRAVDROGA          963961 non-null  object \n",
      " 34  AGRAVTABAC          963961 non-null  object \n",
      " 35  UF                  963961 non-null  object \n",
      " 36  DIAS_EM_TRATAMENTO  963961 non-null  int64  \n",
      " 37  IDADE               963961 non-null  float64\n",
      "dtypes: float64(1), int64(1), object(36)\n",
      "memory usage: 279.5+ MB\n"
     ]
    }
   ],
   "source": [
    "df.info()"
   ]
  },
  {
   "cell_type": "code",
   "execution_count": 5,
   "metadata": {},
   "outputs": [],
   "source": [
    "df['IDADE'] = df['IDADE'].astype('int')"
   ]
  },
  {
   "cell_type": "code",
   "execution_count": 6,
   "metadata": {},
   "outputs": [
    {
     "data": {
      "text/plain": [
       "0    66\n",
       "1    35\n",
       "Name: IDADE, dtype: int64"
      ]
     },
     "execution_count": 6,
     "metadata": {},
     "output_type": "execute_result"
    }
   ],
   "source": [
    "df['IDADE'].head(2)"
   ]
  },
  {
   "cell_type": "code",
   "execution_count": 7,
   "metadata": {},
   "outputs": [],
   "source": [
    "df['DT_NOTIFIC'] = pd.to_datetime(df['DT_NOTIFIC'], dayfirst=True)\n",
    "\n",
    "df['DAY'] = df['DT_NOTIFIC'].dt.day\n",
    "df['MONTH'] = df['DT_NOTIFIC'].dt.month\n",
    "df['YEAR'] = df['DT_NOTIFIC'].dt.year\n",
    "df = df.drop('DT_NOTIFIC', axis=1)"
   ]
  },
  {
   "cell_type": "code",
   "execution_count": 8,
   "metadata": {},
   "outputs": [
    {
     "data": {
      "text/html": [
       "<div>\n",
       "<style scoped>\n",
       "    .dataframe tbody tr th:only-of-type {\n",
       "        vertical-align: middle;\n",
       "    }\n",
       "\n",
       "    .dataframe tbody tr th {\n",
       "        vertical-align: top;\n",
       "    }\n",
       "\n",
       "    .dataframe thead th {\n",
       "        text-align: right;\n",
       "    }\n",
       "</style>\n",
       "<table border=\"1\" class=\"dataframe\">\n",
       "  <thead>\n",
       "    <tr style=\"text-align: right;\">\n",
       "      <th></th>\n",
       "      <th>CS_SEXO</th>\n",
       "      <th>CS_RACA</th>\n",
       "      <th>TRATAMENTO</th>\n",
       "      <th>RAIOX_TORA</th>\n",
       "      <th>TESTE_TUBE</th>\n",
       "      <th>FORMA</th>\n",
       "      <th>AGRAVAIDS</th>\n",
       "      <th>AGRAVALCOO</th>\n",
       "      <th>AGRAVDIABE</th>\n",
       "      <th>AGRAVDOENC</th>\n",
       "      <th>...</th>\n",
       "      <th>BACILOSC_6</th>\n",
       "      <th>SITUA_ENCE</th>\n",
       "      <th>AGRAVDROGA</th>\n",
       "      <th>AGRAVTABAC</th>\n",
       "      <th>UF</th>\n",
       "      <th>DIAS_EM_TRATAMENTO</th>\n",
       "      <th>IDADE</th>\n",
       "      <th>DAY</th>\n",
       "      <th>MONTH</th>\n",
       "      <th>YEAR</th>\n",
       "    </tr>\n",
       "  </thead>\n",
       "  <tbody>\n",
       "    <tr>\n",
       "      <th>0</th>\n",
       "      <td>Male</td>\n",
       "      <td>Ignored</td>\n",
       "      <td>New case</td>\n",
       "      <td>Suspicious</td>\n",
       "      <td>Not performed</td>\n",
       "      <td>Pulmonary</td>\n",
       "      <td>Ignored</td>\n",
       "      <td>Ignored</td>\n",
       "      <td>Ignored</td>\n",
       "      <td>Ignored</td>\n",
       "      <td>...</td>\n",
       "      <td>Not performed</td>\n",
       "      <td>Cured</td>\n",
       "      <td>Ignored</td>\n",
       "      <td>Ignored</td>\n",
       "      <td>AC</td>\n",
       "      <td>195</td>\n",
       "      <td>66</td>\n",
       "      <td>6</td>\n",
       "      <td>1</td>\n",
       "      <td>2001</td>\n",
       "    </tr>\n",
       "    <tr>\n",
       "      <th>1</th>\n",
       "      <td>Female</td>\n",
       "      <td>Admixed</td>\n",
       "      <td>New case</td>\n",
       "      <td>Suspicious</td>\n",
       "      <td>Not performed</td>\n",
       "      <td>Pulmonary</td>\n",
       "      <td>Ignored</td>\n",
       "      <td>Ignored</td>\n",
       "      <td>Ignored</td>\n",
       "      <td>Ignored</td>\n",
       "      <td>...</td>\n",
       "      <td>Not performed</td>\n",
       "      <td>Cured</td>\n",
       "      <td>Ignored</td>\n",
       "      <td>Ignored</td>\n",
       "      <td>AC</td>\n",
       "      <td>181</td>\n",
       "      <td>35</td>\n",
       "      <td>16</td>\n",
       "      <td>1</td>\n",
       "      <td>2001</td>\n",
       "    </tr>\n",
       "  </tbody>\n",
       "</table>\n",
       "<p>2 rows × 40 columns</p>\n",
       "</div>"
      ],
      "text/plain": [
       "  CS_SEXO  CS_RACA TRATAMENTO  RAIOX_TORA     TESTE_TUBE      FORMA AGRAVAIDS  \\\n",
       "0    Male  Ignored   New case  Suspicious  Not performed  Pulmonary   Ignored   \n",
       "1  Female  Admixed   New case  Suspicious  Not performed  Pulmonary   Ignored   \n",
       "\n",
       "  AGRAVALCOO AGRAVDIABE AGRAVDOENC  ...     BACILOSC_6 SITUA_ENCE AGRAVDROGA  \\\n",
       "0    Ignored    Ignored    Ignored  ...  Not performed      Cured    Ignored   \n",
       "1    Ignored    Ignored    Ignored  ...  Not performed      Cured    Ignored   \n",
       "\n",
       "  AGRAVTABAC  UF DIAS_EM_TRATAMENTO IDADE DAY MONTH  YEAR  \n",
       "0    Ignored  AC                195    66   6     1  2001  \n",
       "1    Ignored  AC                181    35  16     1  2001  \n",
       "\n",
       "[2 rows x 40 columns]"
      ]
     },
     "execution_count": 8,
     "metadata": {},
     "output_type": "execute_result"
    }
   ],
   "source": [
    "df.head(2)"
   ]
  },
  {
   "cell_type": "code",
   "execution_count": 9,
   "metadata": {},
   "outputs": [
    {
     "name": "stdout",
     "output_type": "stream",
     "text": [
      "<class 'pandas.core.frame.DataFrame'>\n",
      "RangeIndex: 963961 entries, 0 to 963960\n",
      "Data columns (total 35 columns):\n",
      " #   Column      Non-Null Count   Dtype \n",
      "---  ------      --------------   ----- \n",
      " 0   CS_SEXO     963961 non-null  object\n",
      " 1   CS_RACA     963961 non-null  object\n",
      " 2   TRATAMENTO  963961 non-null  object\n",
      " 3   RAIOX_TORA  963961 non-null  object\n",
      " 4   TESTE_TUBE  963961 non-null  object\n",
      " 5   FORMA       963961 non-null  object\n",
      " 6   AGRAVAIDS   963961 non-null  object\n",
      " 7   AGRAVALCOO  963961 non-null  object\n",
      " 8   AGRAVDIABE  963961 non-null  object\n",
      " 9   AGRAVDOENC  963961 non-null  object\n",
      " 10  AGRAVOUTRA  963961 non-null  object\n",
      " 11  BACILOSC_E  963961 non-null  object\n",
      " 12  BACILOS_E2  963961 non-null  object\n",
      " 13  BACILOSC_O  963961 non-null  object\n",
      " 14  CULTURA_ES  963961 non-null  object\n",
      " 15  HIV         963961 non-null  object\n",
      " 16  RIFAMPICIN  963961 non-null  object\n",
      " 17  ISONIAZIDA  963961 non-null  object\n",
      " 18  ETAMBUTOL   963961 non-null  object\n",
      " 19  ESTREPTOMI  963961 non-null  object\n",
      " 20  PIRAZINAMI  963961 non-null  object\n",
      " 21  ETIONAMIDA  963961 non-null  object\n",
      " 22  OUTRAS      963961 non-null  object\n",
      " 23  TRAT_SUPER  963961 non-null  object\n",
      " 24  DOENCA_TRA  963961 non-null  object\n",
      " 25  BACILOSC_1  963961 non-null  object\n",
      " 26  BACILOSC_2  963961 non-null  object\n",
      " 27  BACILOSC_3  963961 non-null  object\n",
      " 28  BACILOSC_4  963961 non-null  object\n",
      " 29  BACILOSC_5  963961 non-null  object\n",
      " 30  BACILOSC_6  963961 non-null  object\n",
      " 31  SITUA_ENCE  963961 non-null  object\n",
      " 32  AGRAVDROGA  963961 non-null  object\n",
      " 33  AGRAVTABAC  963961 non-null  object\n",
      " 34  UF          963961 non-null  object\n",
      "dtypes: object(35)\n",
      "memory usage: 257.4+ MB\n"
     ]
    }
   ],
   "source": [
    "numeric_features = df.select_dtypes(include='number')\n",
    "categorical_features = df.select_dtypes(include='object')\n",
    "categorical_features.info()\n",
    "# defining two variables for numerical and categorical features"
   ]
  },
  {
   "cell_type": "code",
   "execution_count": 10,
   "metadata": {},
   "outputs": [
    {
     "data": {
      "text/plain": [
       "<AxesSubplot: >"
      ]
     },
     "execution_count": 10,
     "metadata": {},
     "output_type": "execute_result"
    },
    {
     "data": {
      "image/png": "[encoded data removed]",
      "text/plain": [
       "<Figure size 640x480 with 2 Axes>"
      ]
     },
     "metadata": {},
     "output_type": "display_data"
    }
   ],
   "source": [
    "sns.heatmap(df.corr(numeric_only=True))"
   ]
  },
  {
   "cell_type": "code",
   "execution_count": 11,
   "metadata": {},
   "outputs": [
    {
     "data": {
      "text/html": [
       "<div>\n",
       "<style scoped>\n",
       "    .dataframe tbody tr th:only-of-type {\n",
       "        vertical-align: middle;\n",
       "    }\n",
       "\n",
       "    .dataframe tbody tr th {\n",
       "        vertical-align: top;\n",
       "    }\n",
       "\n",
       "    .dataframe thead th {\n",
       "        text-align: right;\n",
       "    }\n",
       "</style>\n",
       "<table border=\"1\" class=\"dataframe\">\n",
       "  <thead>\n",
       "    <tr style=\"text-align: right;\">\n",
       "      <th></th>\n",
       "      <th>CS_SEXO</th>\n",
       "      <th>CS_RACA</th>\n",
       "      <th>TRATAMENTO</th>\n",
       "      <th>RAIOX_TORA</th>\n",
       "      <th>TESTE_TUBE</th>\n",
       "      <th>FORMA</th>\n",
       "      <th>AGRAVAIDS</th>\n",
       "      <th>AGRAVALCOO</th>\n",
       "      <th>AGRAVDIABE</th>\n",
       "      <th>AGRAVDOENC</th>\n",
       "      <th>...</th>\n",
       "      <th>BACILOSC_6</th>\n",
       "      <th>SITUA_ENCE</th>\n",
       "      <th>AGRAVDROGA</th>\n",
       "      <th>AGRAVTABAC</th>\n",
       "      <th>UF</th>\n",
       "      <th>DIAS_EM_TRATAMENTO</th>\n",
       "      <th>IDADE</th>\n",
       "      <th>DAY</th>\n",
       "      <th>MONTH</th>\n",
       "      <th>YEAR</th>\n",
       "    </tr>\n",
       "  </thead>\n",
       "  <tbody>\n",
       "    <tr>\n",
       "      <th>0</th>\n",
       "      <td>1</td>\n",
       "      <td>2</td>\n",
       "      <td>2</td>\n",
       "      <td>4</td>\n",
       "      <td>2</td>\n",
       "      <td>2</td>\n",
       "      <td>0</td>\n",
       "      <td>0</td>\n",
       "      <td>0</td>\n",
       "      <td>0</td>\n",
       "      <td>...</td>\n",
       "      <td>3</td>\n",
       "      <td>0</td>\n",
       "      <td>0</td>\n",
       "      <td>0</td>\n",
       "      <td>0</td>\n",
       "      <td>195</td>\n",
       "      <td>66</td>\n",
       "      <td>6</td>\n",
       "      <td>1</td>\n",
       "      <td>2001</td>\n",
       "    </tr>\n",
       "    <tr>\n",
       "      <th>1</th>\n",
       "      <td>0</td>\n",
       "      <td>0</td>\n",
       "      <td>2</td>\n",
       "      <td>4</td>\n",
       "      <td>2</td>\n",
       "      <td>2</td>\n",
       "      <td>0</td>\n",
       "      <td>0</td>\n",
       "      <td>0</td>\n",
       "      <td>0</td>\n",
       "      <td>...</td>\n",
       "      <td>3</td>\n",
       "      <td>0</td>\n",
       "      <td>0</td>\n",
       "      <td>0</td>\n",
       "      <td>0</td>\n",
       "      <td>181</td>\n",
       "      <td>35</td>\n",
       "      <td>16</td>\n",
       "      <td>1</td>\n",
       "      <td>2001</td>\n",
       "    </tr>\n",
       "    <tr>\n",
       "      <th>2</th>\n",
       "      <td>1</td>\n",
       "      <td>0</td>\n",
       "      <td>2</td>\n",
       "      <td>4</td>\n",
       "      <td>2</td>\n",
       "      <td>2</td>\n",
       "      <td>0</td>\n",
       "      <td>0</td>\n",
       "      <td>0</td>\n",
       "      <td>0</td>\n",
       "      <td>...</td>\n",
       "      <td>3</td>\n",
       "      <td>0</td>\n",
       "      <td>0</td>\n",
       "      <td>0</td>\n",
       "      <td>0</td>\n",
       "      <td>181</td>\n",
       "      <td>54</td>\n",
       "      <td>16</td>\n",
       "      <td>1</td>\n",
       "      <td>2001</td>\n",
       "    </tr>\n",
       "    <tr>\n",
       "      <th>3</th>\n",
       "      <td>1</td>\n",
       "      <td>0</td>\n",
       "      <td>2</td>\n",
       "      <td>4</td>\n",
       "      <td>2</td>\n",
       "      <td>2</td>\n",
       "      <td>0</td>\n",
       "      <td>0</td>\n",
       "      <td>0</td>\n",
       "      <td>0</td>\n",
       "      <td>...</td>\n",
       "      <td>3</td>\n",
       "      <td>0</td>\n",
       "      <td>0</td>\n",
       "      <td>0</td>\n",
       "      <td>0</td>\n",
       "      <td>181</td>\n",
       "      <td>36</td>\n",
       "      <td>22</td>\n",
       "      <td>1</td>\n",
       "      <td>2001</td>\n",
       "    </tr>\n",
       "    <tr>\n",
       "      <th>4</th>\n",
       "      <td>0</td>\n",
       "      <td>2</td>\n",
       "      <td>2</td>\n",
       "      <td>1</td>\n",
       "      <td>2</td>\n",
       "      <td>2</td>\n",
       "      <td>0</td>\n",
       "      <td>0</td>\n",
       "      <td>0</td>\n",
       "      <td>0</td>\n",
       "      <td>...</td>\n",
       "      <td>3</td>\n",
       "      <td>0</td>\n",
       "      <td>0</td>\n",
       "      <td>0</td>\n",
       "      <td>0</td>\n",
       "      <td>183</td>\n",
       "      <td>14</td>\n",
       "      <td>3</td>\n",
       "      <td>1</td>\n",
       "      <td>2001</td>\n",
       "    </tr>\n",
       "  </tbody>\n",
       "</table>\n",
       "<p>5 rows × 40 columns</p>\n",
       "</div>"
      ],
      "text/plain": [
       "   CS_SEXO  CS_RACA  TRATAMENTO  RAIOX_TORA  TESTE_TUBE  FORMA  AGRAVAIDS  \\\n",
       "0        1        2           2           4           2      2          0   \n",
       "1        0        0           2           4           2      2          0   \n",
       "2        1        0           2           4           2      2          0   \n",
       "3        1        0           2           4           2      2          0   \n",
       "4        0        2           2           1           2      2          0   \n",
       "\n",
       "   AGRAVALCOO  AGRAVDIABE  AGRAVDOENC  ...  BACILOSC_6  SITUA_ENCE  \\\n",
       "0           0           0           0  ...           3           0   \n",
       "1           0           0           0  ...           3           0   \n",
       "2           0           0           0  ...           3           0   \n",
       "3           0           0           0  ...           3           0   \n",
       "4           0           0           0  ...           3           0   \n",
       "\n",
       "   AGRAVDROGA  AGRAVTABAC  UF  DIAS_EM_TRATAMENTO  IDADE  DAY  MONTH  YEAR  \n",
       "0           0           0   0                 195     66    6      1  2001  \n",
       "1           0           0   0                 181     35   16      1  2001  \n",
       "2           0           0   0                 181     54   16      1  2001  \n",
       "3           0           0   0                 181     36   22      1  2001  \n",
       "4           0           0   0                 183     14    3      1  2001  \n",
       "\n",
       "[5 rows x 40 columns]"
      ]
     },
     "execution_count": 11,
     "metadata": {},
     "output_type": "execute_result"
    }
   ],
   "source": [
    "from sklearn.preprocessing import LabelEncoder\n",
    "\n",
    "labelEncoder_fit = [(feature, LabelEncoder().fit(df[feature])) for feature in categorical_features]\n",
    "\n",
    "joblib.dump(labelEncoder_fit, '../assets/labelEncoder_fit.jbl')\n",
    "# exporting the fitted features from the data tu use later on\n",
    "# the deployed model\n",
    "\n",
    "for feature, fit in labelEncoder_fit:\n",
    "  df[feature] = fit.transform(df[feature])\n",
    "  # transforming the categorical features from string to 1,2,3...\n",
    "\n",
    "df.head()"
   ]
  },
  {
   "cell_type": "code",
   "execution_count": 12,
   "metadata": {},
   "outputs": [
    {
     "name": "stdout",
     "output_type": "stream",
     "text": [
      "<class 'pandas.core.frame.DataFrame'>\n",
      "RangeIndex: 963961 entries, 0 to 963960\n",
      "Data columns (total 40 columns):\n",
      " #   Column              Non-Null Count   Dtype   \n",
      "---  ------              --------------   -----   \n",
      " 0   CS_SEXO             963961 non-null  category\n",
      " 1   CS_RACA             963961 non-null  category\n",
      " 2   TRATAMENTO          963961 non-null  category\n",
      " 3   RAIOX_TORA          963961 non-null  category\n",
      " 4   TESTE_TUBE          963961 non-null  category\n",
      " 5   FORMA               963961 non-null  category\n",
      " 6   AGRAVAIDS           963961 non-null  category\n",
      " 7   AGRAVALCOO          963961 non-null  category\n",
      " 8   AGRAVDIABE          963961 non-null  category\n",
      " 9   AGRAVDOENC          963961 non-null  category\n",
      " 10  AGRAVOUTRA          963961 non-null  category\n",
      " 11  BACILOSC_E          963961 non-null  category\n",
      " 12  BACILOS_E2          963961 non-null  category\n",
      " 13  BACILOSC_O          963961 non-null  category\n",
      " 14  CULTURA_ES          963961 non-null  category\n",
      " 15  HIV                 963961 non-null  category\n",
      " 16  RIFAMPICIN          963961 non-null  category\n",
      " 17  ISONIAZIDA          963961 non-null  category\n",
      " 18  ETAMBUTOL           963961 non-null  category\n",
      " 19  ESTREPTOMI          963961 non-null  category\n",
      " 20  PIRAZINAMI          963961 non-null  category\n",
      " 21  ETIONAMIDA          963961 non-null  category\n",
      " 22  OUTRAS              963961 non-null  category\n",
      " 23  TRAT_SUPER          963961 non-null  category\n",
      " 24  DOENCA_TRA          963961 non-null  category\n",
      " 25  BACILOSC_1          963961 non-null  category\n",
      " 26  BACILOSC_2          963961 non-null  category\n",
      " 27  BACILOSC_3          963961 non-null  category\n",
      " 28  BACILOSC_4          963961 non-null  category\n",
      " 29  BACILOSC_5          963961 non-null  category\n",
      " 30  BACILOSC_6          963961 non-null  category\n",
      " 31  SITUA_ENCE          963961 non-null  category\n",
      " 32  AGRAVDROGA          963961 non-null  category\n",
      " 33  AGRAVTABAC          963961 non-null  category\n",
      " 34  UF                  963961 non-null  category\n",
      " 35  DIAS_EM_TRATAMENTO  963961 non-null  int64   \n",
      " 36  IDADE               963961 non-null  int64   \n",
      " 37  DAY                 963961 non-null  int64   \n",
      " 38  MONTH               963961 non-null  int64   \n",
      " 39  YEAR                963961 non-null  int64   \n",
      "dtypes: category(35), int64(5)\n",
      "memory usage: 69.0 MB\n"
     ]
    }
   ],
   "source": [
    "for feature in categorical_features.columns:\n",
    "  df[feature] = df[feature].astype('category')\n",
    "\n",
    "df.info()"
   ]
  },
  {
   "cell_type": "code",
   "execution_count": 13,
   "metadata": {},
   "outputs": [
    {
     "data": {
      "text/html": [
       "<div>\n",
       "<style scoped>\n",
       "    .dataframe tbody tr th:only-of-type {\n",
       "        vertical-align: middle;\n",
       "    }\n",
       "\n",
       "    .dataframe tbody tr th {\n",
       "        vertical-align: top;\n",
       "    }\n",
       "\n",
       "    .dataframe thead th {\n",
       "        text-align: right;\n",
       "    }\n",
       "</style>\n",
       "<table border=\"1\" class=\"dataframe\">\n",
       "  <thead>\n",
       "    <tr style=\"text-align: right;\">\n",
       "      <th></th>\n",
       "      <th>CS_SEXO</th>\n",
       "      <th>CS_RACA</th>\n",
       "      <th>TRATAMENTO</th>\n",
       "      <th>RAIOX_TORA</th>\n",
       "      <th>TESTE_TUBE</th>\n",
       "      <th>FORMA</th>\n",
       "      <th>AGRAVAIDS</th>\n",
       "      <th>AGRAVALCOO</th>\n",
       "      <th>AGRAVDIABE</th>\n",
       "      <th>AGRAVDOENC</th>\n",
       "      <th>...</th>\n",
       "      <th>BACILOSC_6</th>\n",
       "      <th>SITUA_ENCE</th>\n",
       "      <th>AGRAVDROGA</th>\n",
       "      <th>AGRAVTABAC</th>\n",
       "      <th>UF</th>\n",
       "      <th>DIAS_EM_TRATAMENTO</th>\n",
       "      <th>IDADE</th>\n",
       "      <th>DAY</th>\n",
       "      <th>MONTH</th>\n",
       "      <th>YEAR</th>\n",
       "    </tr>\n",
       "  </thead>\n",
       "  <tbody>\n",
       "    <tr>\n",
       "      <th>0</th>\n",
       "      <td>1</td>\n",
       "      <td>2</td>\n",
       "      <td>2</td>\n",
       "      <td>4</td>\n",
       "      <td>2</td>\n",
       "      <td>2</td>\n",
       "      <td>0</td>\n",
       "      <td>0</td>\n",
       "      <td>0</td>\n",
       "      <td>0</td>\n",
       "      <td>...</td>\n",
       "      <td>3</td>\n",
       "      <td>0</td>\n",
       "      <td>0</td>\n",
       "      <td>0</td>\n",
       "      <td>0</td>\n",
       "      <td>0.039723</td>\n",
       "      <td>0.550000</td>\n",
       "      <td>0.166667</td>\n",
       "      <td>0.0</td>\n",
       "      <td>0.0</td>\n",
       "    </tr>\n",
       "    <tr>\n",
       "      <th>1</th>\n",
       "      <td>0</td>\n",
       "      <td>0</td>\n",
       "      <td>2</td>\n",
       "      <td>4</td>\n",
       "      <td>2</td>\n",
       "      <td>2</td>\n",
       "      <td>0</td>\n",
       "      <td>0</td>\n",
       "      <td>0</td>\n",
       "      <td>0</td>\n",
       "      <td>...</td>\n",
       "      <td>3</td>\n",
       "      <td>0</td>\n",
       "      <td>0</td>\n",
       "      <td>0</td>\n",
       "      <td>0</td>\n",
       "      <td>0.036871</td>\n",
       "      <td>0.291667</td>\n",
       "      <td>0.500000</td>\n",
       "      <td>0.0</td>\n",
       "      <td>0.0</td>\n",
       "    </tr>\n",
       "    <tr>\n",
       "      <th>2</th>\n",
       "      <td>1</td>\n",
       "      <td>0</td>\n",
       "      <td>2</td>\n",
       "      <td>4</td>\n",
       "      <td>2</td>\n",
       "      <td>2</td>\n",
       "      <td>0</td>\n",
       "      <td>0</td>\n",
       "      <td>0</td>\n",
       "      <td>0</td>\n",
       "      <td>...</td>\n",
       "      <td>3</td>\n",
       "      <td>0</td>\n",
       "      <td>0</td>\n",
       "      <td>0</td>\n",
       "      <td>0</td>\n",
       "      <td>0.036871</td>\n",
       "      <td>0.450000</td>\n",
       "      <td>0.500000</td>\n",
       "      <td>0.0</td>\n",
       "      <td>0.0</td>\n",
       "    </tr>\n",
       "    <tr>\n",
       "      <th>3</th>\n",
       "      <td>1</td>\n",
       "      <td>0</td>\n",
       "      <td>2</td>\n",
       "      <td>4</td>\n",
       "      <td>2</td>\n",
       "      <td>2</td>\n",
       "      <td>0</td>\n",
       "      <td>0</td>\n",
       "      <td>0</td>\n",
       "      <td>0</td>\n",
       "      <td>...</td>\n",
       "      <td>3</td>\n",
       "      <td>0</td>\n",
       "      <td>0</td>\n",
       "      <td>0</td>\n",
       "      <td>0</td>\n",
       "      <td>0.036871</td>\n",
       "      <td>0.300000</td>\n",
       "      <td>0.700000</td>\n",
       "      <td>0.0</td>\n",
       "      <td>0.0</td>\n",
       "    </tr>\n",
       "    <tr>\n",
       "      <th>4</th>\n",
       "      <td>0</td>\n",
       "      <td>2</td>\n",
       "      <td>2</td>\n",
       "      <td>1</td>\n",
       "      <td>2</td>\n",
       "      <td>2</td>\n",
       "      <td>0</td>\n",
       "      <td>0</td>\n",
       "      <td>0</td>\n",
       "      <td>0</td>\n",
       "      <td>...</td>\n",
       "      <td>3</td>\n",
       "      <td>0</td>\n",
       "      <td>0</td>\n",
       "      <td>0</td>\n",
       "      <td>0</td>\n",
       "      <td>0.037278</td>\n",
       "      <td>0.116667</td>\n",
       "      <td>0.066667</td>\n",
       "      <td>0.0</td>\n",
       "      <td>0.0</td>\n",
       "    </tr>\n",
       "  </tbody>\n",
       "</table>\n",
       "<p>5 rows × 40 columns</p>\n",
       "</div>"
      ],
      "text/plain": [
       "  CS_SEXO CS_RACA TRATAMENTO RAIOX_TORA TESTE_TUBE FORMA AGRAVAIDS AGRAVALCOO  \\\n",
       "0       1       2          2          4          2     2         0          0   \n",
       "1       0       0          2          4          2     2         0          0   \n",
       "2       1       0          2          4          2     2         0          0   \n",
       "3       1       0          2          4          2     2         0          0   \n",
       "4       0       2          2          1          2     2         0          0   \n",
       "\n",
       "  AGRAVDIABE AGRAVDOENC  ... BACILOSC_6 SITUA_ENCE AGRAVDROGA AGRAVTABAC UF  \\\n",
       "0          0          0  ...          3          0          0          0  0   \n",
       "1          0          0  ...          3          0          0          0  0   \n",
       "2          0          0  ...          3          0          0          0  0   \n",
       "3          0          0  ...          3          0          0          0  0   \n",
       "4          0          0  ...          3          0          0          0  0   \n",
       "\n",
       "  DIAS_EM_TRATAMENTO     IDADE       DAY MONTH YEAR  \n",
       "0           0.039723  0.550000  0.166667   0.0  0.0  \n",
       "1           0.036871  0.291667  0.500000   0.0  0.0  \n",
       "2           0.036871  0.450000  0.500000   0.0  0.0  \n",
       "3           0.036871  0.300000  0.700000   0.0  0.0  \n",
       "4           0.037278  0.116667  0.066667   0.0  0.0  \n",
       "\n",
       "[5 rows x 40 columns]"
      ]
     },
     "execution_count": 13,
     "metadata": {},
     "output_type": "execute_result"
    }
   ],
   "source": [
    "from sklearn.preprocessing import MinMaxScaler\n",
    "\n",
    "minMaxScaler_fit = [(feature, MinMaxScaler().fit(df[feature].values.reshape(-1,1))) for feature in numeric_features]\n",
    "\n",
    "joblib.dump(minMaxScaler_fit, '../assets/minMaxScaler_fit.jbl')\n",
    "# exporting the fitted features from the data tu use later on\n",
    "# the deployed model\n",
    "\n",
    "for feature, scaler in minMaxScaler_fit:\n",
    "  df[feature] = scaler.transform(df[feature].values.reshape(-1,1))\n",
    "\n",
    "df.head()"
   ]
  },
  {
   "cell_type": "code",
   "execution_count": 14,
   "metadata": {},
   "outputs": [
    {
     "data": {
      "text/html": [
       "<div>\n",
       "<style scoped>\n",
       "    .dataframe tbody tr th:only-of-type {\n",
       "        vertical-align: middle;\n",
       "    }\n",
       "\n",
       "    .dataframe tbody tr th {\n",
       "        vertical-align: top;\n",
       "    }\n",
       "\n",
       "    .dataframe thead th {\n",
       "        text-align: right;\n",
       "    }\n",
       "</style>\n",
       "<table border=\"1\" class=\"dataframe\">\n",
       "  <thead>\n",
       "    <tr style=\"text-align: right;\">\n",
       "      <th></th>\n",
       "      <th>DIAS_EM_TRATAMENTO</th>\n",
       "      <th>IDADE</th>\n",
       "      <th>DAY</th>\n",
       "      <th>MONTH</th>\n",
       "      <th>YEAR</th>\n",
       "    </tr>\n",
       "  </thead>\n",
       "  <tbody>\n",
       "    <tr>\n",
       "      <th>count</th>\n",
       "      <td>963961.000000</td>\n",
       "      <td>963961.000000</td>\n",
       "      <td>963961.000000</td>\n",
       "      <td>963961.000000</td>\n",
       "      <td>963961.000000</td>\n",
       "    </tr>\n",
       "    <tr>\n",
       "      <th>mean</th>\n",
       "      <td>0.041741</td>\n",
       "      <td>0.331717</td>\n",
       "      <td>0.494321</td>\n",
       "      <td>0.491286</td>\n",
       "      <td>0.496994</td>\n",
       "    </tr>\n",
       "    <tr>\n",
       "      <th>std</th>\n",
       "      <td>0.021073</td>\n",
       "      <td>0.142371</td>\n",
       "      <td>0.290289</td>\n",
       "      <td>0.309241</td>\n",
       "      <td>0.284590</td>\n",
       "    </tr>\n",
       "    <tr>\n",
       "      <th>min</th>\n",
       "      <td>0.000000</td>\n",
       "      <td>0.000000</td>\n",
       "      <td>0.000000</td>\n",
       "      <td>0.000000</td>\n",
       "      <td>0.000000</td>\n",
       "    </tr>\n",
       "    <tr>\n",
       "      <th>25%</th>\n",
       "      <td>0.036871</td>\n",
       "      <td>0.216667</td>\n",
       "      <td>0.233333</td>\n",
       "      <td>0.181818</td>\n",
       "      <td>0.263158</td>\n",
       "    </tr>\n",
       "    <tr>\n",
       "      <th>50%</th>\n",
       "      <td>0.038704</td>\n",
       "      <td>0.316667</td>\n",
       "      <td>0.500000</td>\n",
       "      <td>0.454545</td>\n",
       "      <td>0.526316</td>\n",
       "    </tr>\n",
       "    <tr>\n",
       "      <th>75%</th>\n",
       "      <td>0.045019</td>\n",
       "      <td>0.433333</td>\n",
       "      <td>0.733333</td>\n",
       "      <td>0.727273</td>\n",
       "      <td>0.736842</td>\n",
       "    </tr>\n",
       "    <tr>\n",
       "      <th>max</th>\n",
       "      <td>1.000000</td>\n",
       "      <td>1.000000</td>\n",
       "      <td>1.000000</td>\n",
       "      <td>1.000000</td>\n",
       "      <td>1.000000</td>\n",
       "    </tr>\n",
       "  </tbody>\n",
       "</table>\n",
       "</div>"
      ],
      "text/plain": [
       "       DIAS_EM_TRATAMENTO          IDADE            DAY          MONTH  \\\n",
       "count       963961.000000  963961.000000  963961.000000  963961.000000   \n",
       "mean             0.041741       0.331717       0.494321       0.491286   \n",
       "std              0.021073       0.142371       0.290289       0.309241   \n",
       "min              0.000000       0.000000       0.000000       0.000000   \n",
       "25%              0.036871       0.216667       0.233333       0.181818   \n",
       "50%              0.038704       0.316667       0.500000       0.454545   \n",
       "75%              0.045019       0.433333       0.733333       0.727273   \n",
       "max              1.000000       1.000000       1.000000       1.000000   \n",
       "\n",
       "                YEAR  \n",
       "count  963961.000000  \n",
       "mean        0.496994  \n",
       "std         0.284590  \n",
       "min         0.000000  \n",
       "25%         0.263158  \n",
       "50%         0.526316  \n",
       "75%         0.736842  \n",
       "max         1.000000  "
      ]
     },
     "execution_count": 14,
     "metadata": {},
     "output_type": "execute_result"
    }
   ],
   "source": [
    "df.describe()"
   ]
  },
  {
   "cell_type": "code",
   "execution_count": 15,
   "metadata": {},
   "outputs": [],
   "source": [
    "from sklearn.model_selection import train_test_split"
   ]
  },
  {
   "cell_type": "code",
   "execution_count": 16,
   "metadata": {},
   "outputs": [],
   "source": [
    "x = df.drop(['SITUA_ENCE'], axis=1)\n",
    "y = df['SITUA_ENCE']"
   ]
  },
  {
   "cell_type": "code",
   "execution_count": 17,
   "metadata": {},
   "outputs": [
    {
     "data": {
      "text/plain": [
       "0    927777\n",
       "1     36184\n",
       "Name: SITUA_ENCE, dtype: int64"
      ]
     },
     "execution_count": 17,
     "metadata": {},
     "output_type": "execute_result"
    }
   ],
   "source": [
    "y.value_counts()"
   ]
  },
  {
   "cell_type": "code",
   "execution_count": 18,
   "metadata": {},
   "outputs": [],
   "source": [
    "x_train, x_test, y_train, y_test = train_test_split(x, y, test_size=.05, random_state=0)"
   ]
  },
  {
   "cell_type": "code",
   "execution_count": 19,
   "metadata": {},
   "outputs": [
    {
     "name": "stdout",
     "output_type": "stream",
     "text": [
      "\n",
      "x_train: (915762, 39) | y_train: (915762,)\n",
      "x_test: (48199, 39) | y_test: (48199,)\n",
      "\n"
     ]
    }
   ],
   "source": [
    "print(f\"\"\"\n",
    "x_train: {x_train.shape} | y_train: {y_train.shape}\n",
    "x_test: {x_test.shape} | y_test: {y_test.shape}\n",
    "\"\"\")\n",
    "# Seeing the train and test sizes"
   ]
  },
  {
   "cell_type": "code",
   "execution_count": 20,
   "metadata": {},
   "outputs": [
    {
     "data": {
      "text/plain": [
       "0    881384\n",
       "1     34378\n",
       "Name: SITUA_ENCE, dtype: int64"
      ]
     },
     "execution_count": 20,
     "metadata": {},
     "output_type": "execute_result"
    }
   ],
   "source": [
    "y_train.value_counts()"
   ]
  },
  {
   "cell_type": "code",
   "execution_count": 21,
   "metadata": {},
   "outputs": [],
   "source": [
    "from imblearn.under_sampling import RandomUnderSampler\n",
    "\n",
    "randomUnderSampler = RandomUnderSampler()"
   ]
  },
  {
   "cell_type": "code",
   "execution_count": 22,
   "metadata": {},
   "outputs": [
    {
     "data": {
      "text/plain": [
       "0    34378\n",
       "1    34378\n",
       "Name: SITUA_ENCE, dtype: int64"
      ]
     },
     "execution_count": 22,
     "metadata": {},
     "output_type": "execute_result"
    }
   ],
   "source": [
    "x_train, y_train = randomUnderSampler.fit_resample(x_train, y_train)\n",
    "y_train.value_counts()\n",
    "# perfect balance!"
   ]
  },
  {
   "cell_type": "code",
   "execution_count": 23,
   "metadata": {},
   "outputs": [
    {
     "name": "stdout",
     "output_type": "stream",
     "text": [
      "\n",
      "x_train: (68756, 39) | y_train: (68756,)\n",
      "x_test: (48199, 39) | y_test: (48199,)\n",
      "\n"
     ]
    }
   ],
   "source": [
    "print(f\"\"\"\n",
    "x_train: {x_train.shape} | y_train: {y_train.shape}\n",
    "x_test: {x_test.shape} | y_test: {y_test.shape}\n",
    "\"\"\")\n",
    "# Seeing the train and test sizes"
   ]
  },
  {
   "cell_type": "code",
   "execution_count": 24,
   "metadata": {},
   "outputs": [],
   "source": [
    "import lightgbm as lgbm\n",
    "from sklearn.model_selection import cross_val_score"
   ]
  },
  {
   "cell_type": "code",
   "execution_count": 25,
   "metadata": {},
   "outputs": [],
   "source": [
    "model = lgbm.LGBMClassifier(seed=0, objective='binary')"
   ]
  },
  {
   "cell_type": "code",
   "execution_count": 26,
   "metadata": {},
   "outputs": [
    {
     "data": {
      "text/plain": [
       "0.9359584784580474"
      ]
     },
     "execution_count": 26,
     "metadata": {},
     "output_type": "execute_result"
    }
   ],
   "source": [
    "cross_val_score(model, x_train, y_train, cv=5, scoring='f1').mean()"
   ]
  },
  {
   "cell_type": "code",
   "execution_count": 27,
   "metadata": {},
   "outputs": [],
   "source": [
    "from sklearn import metrics"
   ]
  },
  {
   "cell_type": "code",
   "execution_count": 28,
   "metadata": {},
   "outputs": [
    {
     "data": {
      "text/html": [
       "<style>#sk-container-id-1 {color: black;background-color: white;}#sk-container-id-1 pre{padding: 0;}#sk-container-id-1 div.sk-toggleable {background-color: white;}#sk-container-id-1 label.sk-toggleable__label {cursor: pointer;display: block;width: 100%;margin-bottom: 0;padding: 0.3em;box-sizing: border-box;text-align: center;}#sk-container-id-1 label.sk-toggleable__label-arrow:before {content: \"▸\";float: left;margin-right: 0.25em;color: #696969;}#sk-container-id-1 label.sk-toggleable__label-arrow:hover:before {color: black;}#sk-container-id-1 div.sk-estimator:hover label.sk-toggleable__label-arrow:before {color: black;}#sk-container-id-1 div.sk-toggleable__content {max-height: 0;max-width: 0;overflow: hidden;text-align: left;background-color: #f0f8ff;}#sk-container-id-1 div.sk-toggleable__content pre {margin: 0.2em;color: black;border-radius: 0.25em;background-color: #f0f8ff;}#sk-container-id-1 input.sk-toggleable__control:checked~div.sk-toggleable__content {max-height: 200px;max-width: 100%;overflow: auto;}#sk-container-id-1 input.sk-toggleable__control:checked~label.sk-toggleable__label-arrow:before {content: \"▾\";}#sk-container-id-1 div.sk-estimator input.sk-toggleable__control:checked~label.sk-toggleable__label {background-color: #d4ebff;}#sk-container-id-1 div.sk-label input.sk-toggleable__control:checked~label.sk-toggleable__label {background-color: #d4ebff;}#sk-container-id-1 input.sk-hidden--visually {border: 0;clip: rect(1px 1px 1px 1px);clip: rect(1px, 1px, 1px, 1px);height: 1px;margin: -1px;overflow: hidden;padding: 0;position: absolute;width: 1px;}#sk-container-id-1 div.sk-estimator {font-family: monospace;background-color: #f0f8ff;border: 1px dotted black;border-radius: 0.25em;box-sizing: border-box;margin-bottom: 0.5em;}#sk-container-id-1 div.sk-estimator:hover {background-color: #d4ebff;}#sk-container-id-1 div.sk-parallel-item::after {content: \"\";width: 100%;border-bottom: 1px solid gray;flex-grow: 1;}#sk-container-id-1 div.sk-label:hover label.sk-toggleable__label {background-color: #d4ebff;}#sk-container-id-1 div.sk-serial::before {content: \"\";position: absolute;border-left: 1px solid gray;box-sizing: border-box;top: 0;bottom: 0;left: 50%;z-index: 0;}#sk-container-id-1 div.sk-serial {display: flex;flex-direction: column;align-items: center;background-color: white;padding-right: 0.2em;padding-left: 0.2em;position: relative;}#sk-container-id-1 div.sk-item {position: relative;z-index: 1;}#sk-container-id-1 div.sk-parallel {display: flex;align-items: stretch;justify-content: center;background-color: white;position: relative;}#sk-container-id-1 div.sk-item::before, #sk-container-id-1 div.sk-parallel-item::before {content: \"\";position: absolute;border-left: 1px solid gray;box-sizing: border-box;top: 0;bottom: 0;left: 50%;z-index: -1;}#sk-container-id-1 div.sk-parallel-item {display: flex;flex-direction: column;z-index: 1;position: relative;background-color: white;}#sk-container-id-1 div.sk-parallel-item:first-child::after {align-self: flex-end;width: 50%;}#sk-container-id-1 div.sk-parallel-item:last-child::after {align-self: flex-start;width: 50%;}#sk-container-id-1 div.sk-parallel-item:only-child::after {width: 0;}#sk-container-id-1 div.sk-dashed-wrapped {border: 1px dashed gray;margin: 0 0.4em 0.5em 0.4em;box-sizing: border-box;padding-bottom: 0.4em;background-color: white;}#sk-container-id-1 div.sk-label label {font-family: monospace;font-weight: bold;display: inline-block;line-height: 1.2em;}#sk-container-id-1 div.sk-label-container {text-align: center;}#sk-container-id-1 div.sk-container {/* jupyter's `normalize.less` sets `[hidden] { display: none; }` but bootstrap.min.css set `[hidden] { display: none !important; }` so we also need the `!important` here to be able to override the default hidden behavior on the sphinx rendered scikit-learn.org. See: https://github.com/scikit-learn/scikit-learn/issues/21755 */display: inline-block !important;position: relative;}#sk-container-id-1 div.sk-text-repr-fallback {display: none;}</style><div id=\"sk-container-id-1\" class=\"sk-top-container\"><div class=\"sk-text-repr-fallback\"><pre>LGBMClassifier(objective=&#x27;binary&#x27;, seed=0)</pre><b>In a Jupyter environment, please rerun this cell to show the HTML representation or trust the notebook. <br />On GitHub, the HTML representation is unable to render, please try loading this page with nbviewer.org.</b></div><div class=\"sk-container\" hidden><div class=\"sk-item\"><div class=\"sk-estimator sk-toggleable\"><input class=\"sk-toggleable__control sk-hidden--visually\" id=\"sk-estimator-id-1\" type=\"checkbox\" checked><label for=\"sk-estimator-id-1\" class=\"sk-toggleable__label sk-toggleable__label-arrow\">LGBMClassifier</label><div class=\"sk-toggleable__content\"><pre>LGBMClassifier(objective=&#x27;binary&#x27;, seed=0)</pre></div></div></div></div></div>"
      ],
      "text/plain": [
       "LGBMClassifier(objective='binary', seed=0)"
      ]
     },
     "execution_count": 28,
     "metadata": {},
     "output_type": "execute_result"
    }
   ],
   "source": [
    "model.fit(x_train, y_train)"
   ]
  },
  {
   "cell_type": "code",
   "execution_count": 29,
   "metadata": {},
   "outputs": [],
   "source": [
    "y_predict = model.predict(x_test)\n",
    "y_predict_proba = model.predict_proba(x_test)"
   ]
  },
  {
   "cell_type": "code",
   "execution_count": 30,
   "metadata": {},
   "outputs": [
    {
     "data": {
      "text/plain": [
       "array([0, 0, 0, 0, 0])"
      ]
     },
     "execution_count": 30,
     "metadata": {},
     "output_type": "execute_result"
    }
   ],
   "source": [
    "y_predict[:5]"
   ]
  },
  {
   "cell_type": "code",
   "execution_count": 31,
   "metadata": {},
   "outputs": [
    {
     "data": {
      "text/plain": [
       "array([[0.99200308, 0.00799692],\n",
       "       [0.99495993, 0.00504007],\n",
       "       [0.83285772, 0.16714228],\n",
       "       [0.98532555, 0.01467445],\n",
       "       [0.98155127, 0.01844873]])"
      ]
     },
     "execution_count": 31,
     "metadata": {},
     "output_type": "execute_result"
    }
   ],
   "source": [
    "y_predict_proba[:5]"
   ]
  },
  {
   "cell_type": "code",
   "execution_count": 32,
   "metadata": {},
   "outputs": [
    {
     "data": {
      "text/plain": [
       "401131    0\n",
       "154897    0\n",
       "355211    0\n",
       "531647    0\n",
       "305762    0\n",
       "Name: SITUA_ENCE, dtype: category\n",
       "Categories (2, int64): [0, 1]"
      ]
     },
     "execution_count": 32,
     "metadata": {},
     "output_type": "execute_result"
    }
   ],
   "source": [
    "y_test[:5]"
   ]
  },
  {
   "cell_type": "code",
   "execution_count": 33,
   "metadata": {},
   "outputs": [
    {
     "data": {
      "text/plain": [
       "0    46393\n",
       "1     1806\n",
       "Name: SITUA_ENCE, dtype: int64"
      ]
     },
     "execution_count": 33,
     "metadata": {},
     "output_type": "execute_result"
    }
   ],
   "source": [
    "y_test.value_counts()"
   ]
  },
  {
   "cell_type": "code",
   "execution_count": 34,
   "metadata": {},
   "outputs": [
    {
     "data": {
      "text/plain": [
       "0    44087\n",
       "1     4112\n",
       "dtype: int64"
      ]
     },
     "execution_count": 34,
     "metadata": {},
     "output_type": "execute_result"
    }
   ],
   "source": [
    "pd.Series(y_predict).value_counts()"
   ]
  },
  {
   "cell_type": "code",
   "execution_count": 35,
   "metadata": {},
   "outputs": [
    {
     "name": "stdout",
     "output_type": "stream",
     "text": [
      "              precision    recall  f1-score   support\n",
      "\n",
      "           0       1.00      0.95      0.97     46393\n",
      "           1       0.41      0.93      0.57      1806\n",
      "\n",
      "    accuracy                           0.95     48199\n",
      "   macro avg       0.70      0.94      0.77     48199\n",
      "weighted avg       0.98      0.95      0.96     48199\n",
      "\n"
     ]
    }
   ],
   "source": [
    "print(metrics.classification_report(y_test, y_predict))"
   ]
  },
  {
   "cell_type": "code",
   "execution_count": 36,
   "metadata": {},
   "outputs": [
    {
     "data": {
      "image/png": "[encoded data removed]",
      "text/plain": [
       "<Figure size 640x480 with 1 Axes>"
      ]
     },
     "metadata": {},
     "output_type": "display_data"
    }
   ],
   "source": [
    "false_positive_roc, true_positive_roc, _ = metrics.roc_curve(y_test, y_predict_proba[:,1])\n",
    "roc_auc_score = metrics.roc_auc_score(y_test, y_predict)\n",
    "\n",
    "plt.plot(false_positive_roc,true_positive_roc,label=\"AUC=\"+str(roc_auc_score))\n",
    "plt.ylabel('True Positive Rate')\n",
    "plt.xlabel('False Positive Rate')\n",
    "plt.legend(loc=4)\n",
    "plt.show()\n",
    "# seeing the results with the AUC ROC curve"
   ]
  },
  {
   "cell_type": "code",
   "execution_count": 37,
   "metadata": {},
   "outputs": [
    {
     "data": {
      "image/png": "[encoded data removed]",
      "text/plain": [
       "<Figure size 640x480 with 2 Axes>"
      ]
     },
     "metadata": {},
     "output_type": "display_data"
    }
   ],
   "source": [
    "sns.heatmap(metrics.confusion_matrix(y_test, y_predict), annot=True)\n",
    "plt.show()\n",
    "# seeing the results with the confusion matrix"
   ]
  },
  {
   "cell_type": "code",
   "execution_count": 38,
   "metadata": {},
   "outputs": [
    {
     "data": {
      "image/png": "[encoded data removed]",
      "text/plain": [
       "<Figure size 1300x1000 with 1 Axes>"
      ]
     },
     "metadata": {},
     "output_type": "display_data"
    }
   ],
   "source": [
    "ax, fig = plt.subplots(figsize=(13,10))\n",
    "fig = lgbm.plot_importance(model, height=.5, ax=fig)\n",
    "\n",
    "plt.show()"
   ]
  },
  {
   "cell_type": "code",
   "execution_count": 39,
   "metadata": {},
   "outputs": [],
   "source": [
    "fig = fig.figure\n",
    "fig.savefig('../assets/graphs/feature-importance.png', dpi=300, bbox_inches='tight')\n",
    "# saving this plot to use in the streamlit front-end application"
   ]
  },
  {
   "cell_type": "code",
   "execution_count": 40,
   "metadata": {},
   "outputs": [
    {
     "data": {
      "text/plain": [
       "['../assets/model.jbl']"
      ]
     },
     "execution_count": 40,
     "metadata": {},
     "output_type": "execute_result"
    }
   ],
   "source": [
    "joblib.dump(model, '../assets/model.jbl')\n",
    "# saving our final model to use in out deploy application"
   ]
  }
 ],
 "metadata": {
  "kernelspec": {
   "display_name": "Python 3",
   "language": "python",
   "name": "python3"
  },
  "language_info": {
   "codemirror_mode": {
    "name": "ipython",
    "version": 3
   },
   "file_extension": ".py",
   "mimetype": "text/x-python",
   "name": "python",
   "nbconvert_exporter": "python",
   "pygments_lexer": "ipython3",
   "version": "3.10.6"
  },
  "orig_nbformat": 4
 },
 "nbformat": 4,
 "nbformat_minor": 2
}
